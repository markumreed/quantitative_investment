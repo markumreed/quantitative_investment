{
 "cells": [
  {
   "cell_type": "markdown",
   "id": "d732adbb",
   "metadata": {},
   "source": [
    "# **Portfolio Optimization using `yfinance`**"
   ]
  },
  {
   "cell_type": "markdown",
   "id": "74193b08",
   "metadata": {},
   "source": [
    "\n",
    "This notebook demonstrates how to:\n",
    "1. **Collect stock market data** using `yfinance`.\n",
    "2. **Calculate expected returns and covariance matrix** for a 1-month-ahead projection.\n",
    "3. **Optimize portfolio weights** to minimize risk.\n",
    "4. **Analyze the annual performance** of the optimized portfolio.\n",
    "\n",
    "We’ll walk through the entire process step-by-step, providing code explanations and output interpretation.\n"
   ]
  },
  {
   "cell_type": "markdown",
   "id": "68e6b76d",
   "metadata": {},
   "source": [
    "## **Step 1: Import Required Libraries**"
   ]
  },
  {
   "cell_type": "code",
   "execution_count": 1,
   "id": "a76ab448",
   "metadata": {},
   "outputs": [],
   "source": [
    "\n",
    "# Install yfinance if not installed\n",
    "# !pip install yfinance\n",
    "\n",
    "import yfinance as yf\n",
    "import numpy as np\n",
    "import pandas as pd\n",
    "import matplotlib.pyplot as plt\n",
    "from scipy.optimize import minimize\n"
   ]
  },
  {
   "cell_type": "markdown",
   "id": "7ed5cd96",
   "metadata": {},
   "source": [
    "\n",
    "### **Explanation:**\n",
    "- **`yfinance`**: Download historical stock data.\n",
    "- **`numpy`**: Perform numerical operations (e.g., matrix multiplication).\n",
    "- **`pandas`**: Handle and manipulate data in DataFrames.\n",
    "- **`matplotlib`**: Plot visualizations.\n",
    "- **`scipy.optimize`**: Optimize portfolio weights by minimizing risk.\n"
   ]
  },
  {
   "cell_type": "markdown",
   "id": "121c8173",
   "metadata": {},
   "source": [
    "## **Step 2: Collect Data using `yfinance`**"
   ]
  },
  {
   "cell_type": "code",
   "execution_count": 2,
   "id": "ca6ed34e",
   "metadata": {},
   "outputs": [
    {
     "name": "stderr",
     "output_type": "stream",
     "text": [
      "[*********************100%***********************]  5 of 5 completed"
     ]
    },
    {
     "name": "stdout",
     "output_type": "stream",
     "text": [
      "Expected Returns:\n",
      " Ticker\n",
      "AAPL     0.039283\n",
      "AMZN     0.051724\n",
      "GOOGL    0.040983\n",
      "MSFT     0.040573\n",
      "TSLA     0.092039\n",
      "dtype: float64\n",
      "Covariance Matrix:\n",
      " Ticker      AAPL      AMZN     GOOGL      MSFT      TSLA\n",
      "Ticker                                                  \n",
      "AAPL    0.004958  0.004398  0.002818  0.002841  0.010368\n",
      "AMZN    0.004398  0.006741  0.004662  0.002490  0.010482\n",
      "GOOGL   0.002818  0.004662  0.006341  0.001995  0.004859\n",
      "MSFT    0.002841  0.002490  0.001995  0.003524  0.000386\n",
      "TSLA    0.010368  0.010482  0.004859  0.000386  0.050845\n"
     ]
    },
    {
     "name": "stderr",
     "output_type": "stream",
     "text": [
      "\n",
      "/var/folders/36/pdgz39t93t13mnrp84bqbcsm0000gn/T/ipykernel_53812/3907669574.py:9: FutureWarning: 'M' is deprecated and will be removed in a future version, please use 'ME' instead.\n",
      "  monthly_returns = returns.resample('M').apply(lambda x: (1 + x).prod() - 1)\n"
     ]
    }
   ],
   "source": [
    "\n",
    "# Define the stock tickers for the portfolio\n",
    "tickers = [\"AAPL\", \"MSFT\", \"GOOGL\", \"AMZN\", \"TSLA\"]\n",
    "\n",
    "# Download 1 year of daily adjusted close prices\n",
    "data = yf.download(tickers, start=\"2023-01-01\", end=\"2024-01-01\")['Adj Close']\n",
    "\n",
    "# Calculate daily returns and convert them to monthly returns\n",
    "returns = data.pct_change().dropna()\n",
    "monthly_returns = returns.resample('M').apply(lambda x: (1 + x).prod() - 1)\n",
    "\n",
    "# Calculate expected returns and covariance matrix\n",
    "expected_returns = monthly_returns.mean()\n",
    "cov_matrix = monthly_returns.cov()\n",
    "\n",
    "print(\"Expected Returns:\\n\", expected_returns)\n",
    "print(\"Covariance Matrix:\\n\", cov_matrix)\n"
   ]
  },
  {
   "cell_type": "markdown",
   "id": "ac2b3ff6",
   "metadata": {},
   "source": [
    "\n",
    "### **Explanation:**\n",
    "- **`tickers`**: List of stock tickers (Apple, Microsoft, Google, Amazon, Tesla).\n",
    "- **`yf.download()`**: Downloads daily adjusted close prices for the selected tickers.\n",
    "- **`pct_change()`**: Converts prices to daily returns.\n",
    "- **`resample('M')`**: Aggregates daily returns to monthly returns.\n",
    "- **`mean()`**: Computes the average (expected) return for each stock.\n",
    "- **`cov()`**: Computes the covariance matrix of the returns.\n",
    "\n",
    "### **Output Interpretation:**\n",
    "- **Expected Returns**: Displays the average monthly return for each stock.\n",
    "- **Covariance Matrix**: Shows how the returns of the stocks move together (essential for risk estimation).\n"
   ]
  },
  {
   "cell_type": "markdown",
   "id": "e838066d",
   "metadata": {},
   "source": [
    "## **Step 3: Define Portfolio Optimization Functions**"
   ]
  },
  {
   "cell_type": "code",
   "execution_count": 3,
   "id": "54626e6f",
   "metadata": {},
   "outputs": [],
   "source": [
    "\n",
    "# Objective function: Minimize portfolio variance\n",
    "def portfolio_variance(weights, cov_matrix):\n",
    "    return np.dot(weights.T, np.dot(cov_matrix, weights))\n",
    "\n",
    "# Constraint: Sum of weights must equal 1\n",
    "def constraint(weights):\n",
    "    return np.sum(weights) - 1\n",
    "\n",
    "# Bounds: No short-selling, weights between 0 and 1\n",
    "bounds = [(0, 1) for _ in range(len(tickers))]\n",
    "\n",
    "# Initial guess: Equal allocation\n",
    "initial_guess = np.array([1 / len(tickers)] * len(tickers))\n"
   ]
  },
  {
   "cell_type": "markdown",
   "id": "d0004e59",
   "metadata": {},
   "source": [
    "\n",
    "### **Explanation:**\n",
    "- **`portfolio_variance()`**: Calculates the portfolio's variance (risk) using matrix multiplication.\n",
    "- **`constraint()`**: Ensures the sum of the portfolio weights is 1 (fully invested).\n",
    "- **`bounds`**: Constrains weights between 0 and 1 (no short-selling).\n",
    "- **`initial_guess`**: Starts with equal allocation across all stocks.\n",
    "\n",
    "### **Matrix Multiplication Insight:**\n",
    "- **Variance formula:** \\( \\sigma^2_p = W^T \\cdot \\Sigma \\cdot W \\)\n",
    "  - \\( W \\) = Portfolio weights\n",
    "  - \\( \\Sigma \\) = Covariance matrix\n",
    "  This is why matrix multiplication is crucial for portfolio optimization.\n"
   ]
  },
  {
   "cell_type": "markdown",
   "id": "f79f80dc",
   "metadata": {},
   "source": [
    "## **Step 4: Perform Portfolio Optimization**"
   ]
  },
  {
   "cell_type": "code",
   "execution_count": 4,
   "id": "980412fe",
   "metadata": {},
   "outputs": [
    {
     "name": "stdout",
     "output_type": "stream",
     "text": [
      "Optimal Portfolio Weights:\n",
      " [2.26828696e-01 6.93889390e-18 2.02710123e-01 5.70461180e-01\n",
      " 0.00000000e+00]\n"
     ]
    }
   ],
   "source": [
    "\n",
    "# Minimize portfolio variance subject to constraints\n",
    "opt_result = minimize(\n",
    "    portfolio_variance,\n",
    "    initial_guess,\n",
    "    args=(cov_matrix,),\n",
    "    method='SLSQP',\n",
    "    constraints={'type': 'eq', 'fun': constraint},\n",
    "    bounds=bounds\n",
    ")\n",
    "\n",
    "# Extract optimal portfolio weights\n",
    "optimal_weights = opt_result.x\n",
    "print(\"Optimal Portfolio Weights:\\n\", optimal_weights)\n"
   ]
  },
  {
   "cell_type": "markdown",
   "id": "ea96a979",
   "metadata": {},
   "source": [
    "\n",
    "### **Explanation:**\n",
    "- **`minimize()`**: Optimizes portfolio weights by minimizing the variance.\n",
    "- **`SLSQP`**: Sequential Least Squares Programming (constrained optimization method).\n",
    "- **`opt_result.x`**: Stores the optimal weights for each stock.\n",
    "\n",
    "### **Output Interpretation:**\n",
    "- The optimal weights will indicate how much of the portfolio should be allocated to each stock to minimize risk.\n"
   ]
  },
  {
   "cell_type": "markdown",
   "id": "14c04ff9",
   "metadata": {},
   "source": [
    "## **Step 5: Visualize Portfolio Allocation**"
   ]
  },
  {
   "cell_type": "code",
   "execution_count": 5,
   "id": "bfebf94d",
   "metadata": {},
   "outputs": [
    {
     "data": {
      "image/png": "[encoded data removed]",
      "text/plain": [
       "<Figure size 800x600 with 1 Axes>"
      ]
     },
     "metadata": {},
     "output_type": "display_data"
    }
   ],
   "source": [
    "\n",
    "# Plot optimal weights\n",
    "plt.figure(figsize=(8, 6))\n",
    "plt.bar(tickers, optimal_weights)\n",
    "plt.title('Optimal Portfolio Weights')\n",
    "plt.xlabel('Stocks')\n",
    "plt.ylabel('Weight')\n",
    "plt.show()\n"
   ]
  },
  {
   "cell_type": "markdown",
   "id": "5f403e46",
   "metadata": {},
   "source": [
    "\n",
    "### **Output Interpretation:**\n",
    "- This bar chart shows the optimal weights for each stock in the portfolio.\n",
    "- The higher the weight, the more that stock contributes to the overall portfolio.\n"
   ]
  },
  {
   "cell_type": "markdown",
   "id": "1a357fbb",
   "metadata": {},
   "source": [
    "## **Step 6: Annual Performance Analysis**"
   ]
  },
  {
   "cell_type": "code",
   "execution_count": 6,
   "id": "115555ae",
   "metadata": {},
   "outputs": [
    {
     "name": "stdout",
     "output_type": "stream",
     "text": [
      "Annual Return: 58.27%\n",
      "Annual Volatility: 19.34%\n"
     ]
    }
   ],
   "source": [
    "\n",
    "# Calculate monthly portfolio returns using optimal weights\n",
    "portfolio_returns = monthly_returns.dot(optimal_weights)\n",
    "\n",
    "# Calculate annual return and volatility\n",
    "annual_return = (1 + portfolio_returns).prod() - 1\n",
    "annual_volatility = portfolio_returns.std() * np.sqrt(12)\n",
    "\n",
    "print(f\"Annual Return: {annual_return:.2%}\")\n",
    "print(f\"Annual Volatility: {annual_volatility:.2%}\")\n"
   ]
  },
  {
   "cell_type": "markdown",
   "id": "8ef91e06",
   "metadata": {},
   "source": [
    "\n",
    "### **Explanation:**\n",
    "- **Annual Return**: The cumulative product of monthly returns over the year.\n",
    "- **Annual Volatility**: Standard deviation of monthly returns, scaled by \\( \\sqrt{12} \\) to reflect annual volatility.\n",
    "\n",
    "### **Output Interpretation:**\n",
    "- **Annual Return**: Displays the portfolio's return over the year.\n",
    "- **Annual Volatility**: Shows the portfolio’s risk over the year.\n"
   ]
  },
  {
   "cell_type": "markdown",
   "id": "041e45ab",
   "metadata": {},
   "source": [
    "## **Step 7: Visualize Annual Performance**"
   ]
  },
  {
   "cell_type": "code",
   "execution_count": 7,
   "id": "db82830d",
   "metadata": {},
   "outputs": [
    {
     "data": {
      "image/png": "[encoded data removed]",
      "text/plain": [
       "<Figure size 800x600 with 1 Axes>"
      ]
     },
     "metadata": {},
     "output_type": "display_data"
    }
   ],
   "source": [
    "\n",
    "# Plot cumulative returns over the year\n",
    "plt.figure(figsize=(8, 6))\n",
    "plt.plot(portfolio_returns.cumsum(), marker='o')\n",
    "plt.title('Cumulative Portfolio Returns Over 1 Year')\n",
    "plt.xlabel('Month')\n",
    "plt.ylabel('Cumulative Return')\n",
    "plt.grid(True)\n",
    "plt.show()\n"
   ]
  },
  {
   "cell_type": "markdown",
   "id": "c02bc1a5",
   "metadata": {},
   "source": [
    "\n",
    "### **Output Interpretation:**\n",
    "- This plot shows how the portfolio's cumulative return evolved over the year.\n",
    "- It provides a visual understanding of the portfolio’s growth and fluctuations.\n"
   ]
  }
 ],
 "metadata": {
  "kernelspec": {
   "display_name": "Python 3",
   "language": "python",
   "name": "python3"
  },
  "language_info": {
   "codemirror_mode": {
    "name": "ipython",
    "version": 3
   },
   "file_extension": ".py",
   "mimetype": "text/x-python",
   "name": "python",
   "nbconvert_exporter": "python",
   "pygments_lexer": "ipython3",
   "version": "3.12.2"
  }
 },
 "nbformat": 4,
 "nbformat_minor": 5
}
