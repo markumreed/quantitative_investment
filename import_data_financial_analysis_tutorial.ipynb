
{
 "cells": [
  {
   "cell_type": "markdown",
   "metadata": {},
   "source": [
    "# Extensive Tutorial: Obtaining Data with Python for Beta Estimation and Portfolio Optimization\n",
    "This tutorial will guide you through downloading, inspecting, and processing financial data. We will obtain **market excess returns, stock prices,** and **risk-free rates** to perform **beta estimation and portfolio optimization**.\n",
    "Each step will include explanations and code to help you master these skills."
   ]
  },
  {
   "cell_type": "markdown",
   "metadata": {},
   "source": [
    "## Step 1: Download Data Using `curl` and Inspect Using `bash`\n",
    "Using **curl**, we will download files from URLs. In **bash**, we inspect the downloaded files to verify and understand their structure."
   ]
  },
  {
   "cell_type": "code",
   "execution_count": null,
   "metadata": {},
   "outputs": [],
   "source": [
    "# In your terminal, create a directory and download the data\n",
    "!mkdir financial_data && cd financial_data\n",
    "!curl -O http://mba.tuck.dartmouth.edu/pages/faculty/ken.french/ftp/F-F_Research_Data_Factors.CSV\n",
    "!curl -O http://www.stern.nyu.edu/~adamodar/pc/implprem/ERPbymonth.xlsx"
   ]
  },
  {
   "cell_type": "markdown",
   "metadata": {},
   "source": [
    "### Inspecting the Files"
   ]
  },
  {
   "cell_type": "code",
   "execution_count": null,
   "metadata": {},
   "outputs": [],
   "source": [
    "!ls -lh financial_data\n",
    "!head -n 10 financial_data/F-F_Research_Data_Factors.CSV\n",
    "!file financial_data/ERPbymonth.xlsx"
   ]
  },
  {
   "cell_type": "markdown",
   "metadata": {},
   "source": [
    "## Step 2: Import Data into Python and Process It\n",
    "Below, we will use **pandas** and **openpyxl** to load CSV and Excel files."
   ]
  },
  {
   "cell_type": "code",
   "execution_count": null,
   "metadata": {},
   "outputs": [],
   "source": [
    "import pandas as pd\n\n",
    "# Load the Fama/French data\n",
    "fama_french = pd.read_csv('financial_data/F-F_Research_Data_Factors.CSV', skiprows=3)\n",
    "fama_french['Date'] = pd.to_datetime(fama_french['Unnamed: 0'], format='%Y%m')\n",
    "fama_french = fama_french[['Date', 'Mkt-RF', 'RF']]\n",
    "latest_60_months = fama_french.tail(60)\n",
    "latest_60_months.head()"
   ]
  },
  {
   "cell_type": "code",
   "execution_count": null,
   "metadata": {},
   "outputs": [],
   "source": [
    "# Load the Excel data\n",
    "erp_data = pd.read_excel('financial_data/ERPbymonth.xlsx', sheet_name='Historical ERP')\n",
    "latest_data = erp_data.iloc[-1]\n",
    "t_bond_rate = latest_data['T.Bond Rate']\n",
    "expected_return = latest_data['Expected Return on Stocks']\n",
    "print(f'T-Bond Rate: {t_bond_rate}%')\n",
    "print(f'Expected Return on Stocks: {expected_return}%')"
   ]
  },
  {
   "cell_type": "markdown",
   "metadata": {},
   "source": [
    "## Step 3: Download Historical Stock Prices Using Yahoo Finance"
   ]
  },
  {
   "cell_type": "code",
   "execution_count": null,
   "metadata": {},
   "outputs": [],
   "source": [
    "import yfinance as yf\n\n",
    "# Fetch historical data for Apple stock\n",
    "ticker = 'AAPL'\n",
    "start_date = '2017-08-01'\n",
    "end_date = '2022-08-31'\n",
    "stock_data = yf.download(ticker, start=start_date, end=end_date, interval='1mo')\n",
    "stock_data = stock_data[['Adj Close']].rename(columns={'Adj Close': 'Adjusted Price'})\n",
    "stock_data.head()"
   ]
  },
  {
   "cell_type": "markdown",
   "metadata": {},
   "source": [
    "## Step 4: Calculate Monthly Stock Returns"
   ]
  },
  {
   "cell_type": "code",
   "execution_count": null,
   "metadata": {},
   "outputs": [],
   "source": [
    "stock_data['Monthly Return (%)'] = stock_data['Adjusted Price'].pct_change() * 100\n",
    "stock_returns = stock_data.dropna()\n",
    "stock_returns.head()"
   ]
  },
  {
   "cell_type": "markdown",
   "metadata": {},
   "source": [
    "## Step 5: Align Data for Beta Estimation"
   ]
  },
  {
   "cell_type": "code",
   "execution_count": null,
   "metadata": {},
   "outputs": [],
   "source": [
    "aligned_returns = stock_returns.loc['2017-08-31':'2022-08-31']\n",
    "print(aligned_returns.head())"
   ]
  }
 ],
 "metadata": {
  "kernelspec": {
   "display_name": "Python 3",
   "language": "python",
   "name": "python3"
  },
  "language_info": {
   "codemirror_mode": {
    "name": "ipython",
    "version": 3
   },
   "file_extension": ".py",
   "mimetype": "text/x-python",
   "name": "python",
   "nbconvert_exporter": "python",
   "pygments_lexer": "ipython3",
   "version": "3.8.5"
  }
 },
 "nbformat": 4,
 "nbformat_minor": 4
}
