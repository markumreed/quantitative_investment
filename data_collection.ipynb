{
 "cells": [
  {
   "cell_type": "markdown",
   "metadata": {},
   "source": [
    "# **Obtaining Data with Python for Beta Estimation and Portfolio Optimization**\n",
    "This tutorial guides you through **downloading, inspecting, and processing financial data** to perform **beta estimation and portfolio optimization**. Each step includes code explanations to help you master these techniques."
   ]
  },
  {
   "cell_type": "markdown",
   "metadata": {},
   "source": [
    "## **Overview of Python Libraries for Financial Analysis**\n",
    "1. **`pandas`**: Used for data manipulation and analysis.\n",
    "2. **`yfinance`**: Fetches stock price data from Yahoo Finance.\n",
    "3. **`openpyxl`**: Reads and writes Excel files.\n",
    "4. **`statsmodels`**: Performs statistical analysis like regression.\n",
    "5. **`matplotlib`**: Plots data for insights and trends."
   ]
  },
  {
   "cell_type": "markdown",
   "metadata": {},
   "source": [
    "## **Installing Required Libraries**"
   ]
  },
  {
   "cell_type": "code",
   "execution_count": null,
   "metadata": {},
   "outputs": [],
   "source": [
    "# Uncomment and run this code to install necessary libraries\n",
    "# !pip3 install pandas yfinance openpyxl matplotlib statsmodels seaborn pyarrow PyPortfolioOpt"
   ]
  },
  {
   "cell_type": "markdown",
   "metadata": {},
   "source": [
    "## **Step 1: Downloading Data Using Bash Commands**"
   ]
  },
  {
   "cell_type": "code",
   "execution_count": null,
   "metadata": {},
   "outputs": [],
   "source": [
    "!mkdir financial_data\n",
    "!curl -o financial_data/ff_data.csv http://mba.tuck.dartmouth.edu/pages/faculty/ken.french/ftp/F-F_Research_Data_Factors.CSV\n",
    "!curl -o financial_data/erp_data.xlsx https://pages.stern.nyu.edu/~adamodar/pc/ERPbymonth.xlsx"
   ]
  },
  {
   "cell_type": "markdown",
   "metadata": {},
   "source": [
    "#### Code Explanation:\n",
    "- **`mkdir`**: Creates a new directory for storing the data.\n",
    "- **`curl`**: Downloads the CSV and Excel datasets from their respective URLs."
   ]
  },
  {
   "cell_type": "markdown",
   "metadata": {},
   "source": [
    "## **Step 2: Inspecting the Files**"
   ]
  },
  {
   "cell_type": "code",
   "execution_count": null,
   "metadata": {},
   "outputs": [],
   "source": [
    "!ls -lh financial_data\n",
    "!head -n 10 financial_data/ff_data.csv\n",
    "!tail -n 10 financial_data/ff_data.csv\n",
    "!file financial_data/erp_data.xlsx"
   ]
  },
  {
   "cell_type": "markdown",
   "metadata": {},
   "source": [
    "#### Code Explanation:\n",
    "- **`ls -lh`**: Lists the contents of the directory with readable sizes.\n",
    "- **`head`** and **`tail`**: Display the first and last few lines of the CSV file.\n",
    "- **`file`**: Confirms the format of the downloaded Excel file.\n"
   ]
  },
  {
   "cell_type": "markdown",
   "metadata": {},
   "source": [
    "## **Step 3a: Loading Data into Python**"
   ]
  },
  {
   "cell_type": "code",
   "execution_count": null,
   "metadata": {},
   "outputs": [],
   "source": [
    "import pandas as pd\n",
    "\n",
    "# Load the Fama/French data\n",
    "fama_french = pd.read_csv('financial_data/ff_data.csv', skiprows=3, skipfooter=1, engine='python')\n",
    "fama_french.rename(columns={'Unnamed: 0': 'Date'}, inplace=True)\n",
    "fama_french = fama_french.dropna()[fama_french.dropna().Date.map(lambda x: int(x)>9999)]\n",
    "fama_french['Date'] = pd.to_datetime(fama_french['Date'].astype(str), format='%Y%m').dt.strftime('%Y-%m')\n",
    "fama_french = fama_french[['Date', 'Mkt-RF', 'RF']]\n",
    "latest_60_months = fama_french.iloc[-60:].copy()\n",
    "latest_60_months[['Mkt-RF', 'RF']] = latest_60_months[['Mkt-RF','RF']].apply(pd.to_numeric, errors='coerce', axis=1)\n",
    "latest_60_months.info()"
   ]
  },
  {
   "cell_type": "markdown",
   "metadata": {},
   "source": [
    "### **Code Explanation:**\n",
    "\n",
    "1. **`import pandas as pd`**  \n",
    "   - Imports the `pandas` library for data manipulation and analysis.\n",
    "\n",
    "2. **`pd.read_csv()`**  \n",
    "   - Loads the **Fama-French dataset** from a CSV file.  \n",
    "   - **`skiprows=3`**: Skips the first three rows (usually headers or metadata).  \n",
    "   - **`skipfooter=1`**: Skips the last row (likely a summary or footer).  \n",
    "   - **`engine='python'`**: Uses the Python engine for parsing.\n",
    "\n",
    "3. **`rename()`**  \n",
    "   - Renames the first column from `Unnamed: 0` to **`Date`** for clarity.  \n",
    "   - **`inplace=True`**: Modifies the DataFrame in place.\n",
    "\n",
    "4. **`dropna()` and `Date.map()`**  \n",
    "   - Removes rows with missing values.  \n",
    "   - **`Date.map(lambda x: int(x) > 9999)`**: Filters rows to keep only those with valid **year-month** dates.\n",
    "\n",
    "5. **`pd.to_datetime()` and `strftime()`**  \n",
    "   - Converts the **`Date`** column to datetime using the **`%Y%m`** format.  \n",
    "   - **`strftime('%Y-%m')`**: Formats the dates as `YYYY-MM` strings for consistency.\n",
    "\n",
    "6. **Column Selection**  \n",
    "   - Selects the **`Date`**, **`Mkt-RF`** (market excess return), and **`RF`** (risk-free rate) columns for further analysis.\n",
    "\n",
    "7. **`iloc[-60:]` and `copy()`**  \n",
    "   - Extracts the **last 60 rows** (the latest 60 months of data) and makes a copy to avoid altering the original DataFrame.\n",
    "\n",
    "8. **`apply(pd.to_numeric, errors='coerce', axis=1)`**  \n",
    "   - Converts the **`Mkt-RF`** and **`RF`** columns to numeric values.  \n",
    "   - **`errors='coerce'`**: Replaces any non-numeric values with NaN.\n",
    "\n",
    "9. **`info()`**  \n",
    "   - Displays a **summary of the DataFrame**, including the data types of each column and non-null value counts, to ensure everything is correctly formatted."
   ]
  },
  {
   "cell_type": "markdown",
   "metadata": {},
   "source": [
    "## **Step 3b: Download Historical Stock Prices Using Yahoo Finance**"
   ]
  },
  {
   "cell_type": "code",
   "execution_count": null,
   "metadata": {},
   "outputs": [],
   "source": [
    "import yfinance as yf\n",
    "# Updated list of 20 tickers (replacing TWTR with SHOP)\n",
    "ticker_list = ['AAPL', 'MSFT', 'GOOGL', 'AMZN', 'TSLA', 'META', 'NFLX', 'NVDA', 'INTC', 'ORCL',\n",
    "               'IBM', 'ADBE', 'CSCO', 'QCOM', 'AMD', 'SAP', 'PYPL', 'CRM', 'UBER', 'SHOP']\n",
    "\n",
    "# Define the date range\n",
    "start_date = '2017-08-01'\n",
    "end_date = '2022-08-31'\n",
    "\n",
    "# Download data for multiple tickers\n",
    "data = yf.download(\n",
    "    tickers=ticker_list,\n",
    "    start=start_date,\n",
    "    end=end_date,\n",
    "    interval='1mo',\n",
    "    group_by='ticker'\n",
    ")\n",
    "\n",
    "# Extract 'Adj Close' for each ticker and rename to 'Adjusted Price'\n",
    "adjusted_data = pd.DataFrame()\n",
    "\n",
    "for ticker in ticker_list:\n",
    "    # Select and rename the 'Adj Close' column\n",
    "    ticker_data = data[ticker][['Adj Close']].rename(columns={'Adj Close': 'Adjusted Price'})\n",
    "    # Add the ticker symbol as a column\n",
    "    ticker_data['Ticker'] = ticker\n",
    "    # Append the data to the main DataFrame\n",
    "    adjusted_data = pd.concat([adjusted_data, ticker_data])\n",
    "\n",
    "# Reset index to make it more readable\n",
    "adjusted_data.reset_index(inplace=True)\n",
    "\n",
    "# Transpose the data using pivot_table\n",
    "transposed_data = adjusted_data.pivot_table(values='Adjusted Price', index='Date', columns='Ticker')\n"
   ]
  },
  {
   "cell_type": "markdown",
   "metadata": {},
   "source": [
    "### **Code Explanation:**\n",
    "\n",
    "1. **`import yfinance as yf`**  \n",
    "   - Imports the `yfinance` library for fetching stock market data.\n",
    "\n",
    "2. **`ticker_list`**  \n",
    "   - A list containing 20 stock tickers, including companies like **Apple (AAPL)**, **Microsoft (MSFT)**, and **Shopify (SHOP)**. These tickers represent the stocks for which data will be retrieved.\n",
    "\n",
    "3. **`start_date` and `end_date`**  \n",
    "   - Define the time period for the stock data:  \n",
    "     - **Start Date:** August 1, 2017.  \n",
    "     - **End Date:** August 31, 2022.  \n",
    "   - This range ensures the download includes 5 years of monthly stock data.\n",
    "\n",
    "4. **`yf.download()`**  \n",
    "   - Downloads historical stock data for the tickers in the list.  \n",
    "   - **`tickers=ticker_list`**: Retrieves data for all 20 tickers.  \n",
    "   - **`interval='1mo'`**: Fetches monthly data.  \n",
    "   - **`group_by='ticker'`**: Organizes the data so each ticker's data is kept separate within the same DataFrame.\n",
    "\n",
    "5. **Creating an Empty DataFrame**  \n",
    "   - Initializes an empty DataFrame called `adjusted_data` to store the cleaned data for all tickers.\n",
    "\n",
    "6. **Looping Through Tickers**  \n",
    "   - For each ticker in the list:\n",
    "     - Extracts the **Adjusted Close** price to account for dividends and stock splits.\n",
    "     - Renames the **'Adj Close'** column to **'Adjusted Price'** for better clarity.\n",
    "     - Adds a new column to store the ticker symbol for reference.\n",
    "\n",
    "7. **Appending Data with `pd.concat()`**  \n",
    "   - Each ticker’s data is appended to the main DataFrame, combining all the stock data into a single structured DataFrame.\n",
    "\n",
    "8. **Resetting the Index**  \n",
    "   - Resets the index to convert the date from the index back to a column for easier manipulation and display.\n",
    "\n",
    "9. **Using `pivot_table()`**  \n",
    "   - Transposes the DataFrame, organizing it with **dates as rows** and **tickers as columns**.  \n",
    "   - This transformation provides a clean view, where each column shows the adjusted prices for a specific ticker over time. \n",
    "\n",
    "This final structure makes it easy to analyze the performance of multiple stocks simultaneously, with dates aligned for comparison across the different companies."
   ]
  },
  {
   "cell_type": "markdown",
   "metadata": {},
   "source": [
    "## **Step 4: Calculating Stock Returns with `pct_change()`**"
   ]
  },
  {
   "cell_type": "code",
   "execution_count": null,
   "metadata": {},
   "outputs": [],
   "source": [
    "returns_data = transposed_data.pct_change() * 100\n",
    "returns_data = returns_data.rename(columns=lambda x: x + '_return')\n",
    "returns_data = returns_data.dropna()\n",
    "returns_data = returns_data.reset_index()\n",
    "returns_data['Date'] = pd.to_datetime(returns_data['Date'].astype(str), format='%Y-%m-%d %H:%M:%S%z').dt.strftime('%Y-%m')"
   ]
  },
  {
   "cell_type": "markdown",
   "metadata": {},
   "source": [
    "### **Code Explanation:**\n",
    "\n",
    "1. **`transposed_data.pct_change()`**  \n",
    "   - Calculates the **percentage change** between consecutive rows (monthly returns) for each ticker.  \n",
    "   - The result shows how much each stock’s price has changed (in percentage) from one month to the next.\n",
    "\n",
    "2. **`* 100`**  \n",
    "   - Converts the fractional percentage change values into **actual percentage values** by multiplying by 100.\n",
    "\n",
    "3. **`rename(columns=lambda x: x + '_return')`**  \n",
    "   - Renames each column by appending **`_return`** to the original ticker symbol (e.g., `AAPL` becomes `AAPL_return`).  \n",
    "   - This clearly distinguishes these columns as **return values** rather than raw prices.\n",
    "\n",
    "4. **`dropna()`**  \n",
    "   - Removes any **rows with missing values** (NaN). This typically happens if there are no previous data points to compute percentage changes, such as the first row for each ticker.\n",
    "\n",
    "5. **`reset_index()`**  \n",
    "   - Resets the DataFrame’s index to make the data easier to read and manipulate.  \n",
    "   - The original date index becomes a regular column.\n",
    "\n",
    "6. **`pd.to_datetime()`**  \n",
    "   - Converts the **'Date'** column into a proper datetime object to ensure consistent date formatting.\n",
    "\n",
    "7. **`astype(str)`**  \n",
    "   - Converts the date values into **string format**, so they can be formatted further.\n",
    "\n",
    "8. **`strftime('%Y-%m')`**  \n",
    "   - Formats the **Date** column to show only the **year and month** (e.g., `2022-08`), which aligns with the monthly intervals of the data.\n",
    "\n",
    "This code processes the transposed stock data to calculate and format monthly returns for each stock, ensuring that the data is clean, structured, and ready for further analysis or visualization."
   ]
  }
 ],
 "metadata": {
  "language_info": {
   "name": "python"
  }
 },
 "nbformat": 4,
 "nbformat_minor": 2
}
